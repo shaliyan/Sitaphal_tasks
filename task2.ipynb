{
 "cells": [
  {
   "cell_type": "code",
   "execution_count": 3,
   "id": "bcb4335e-fdbf-45b1-89dd-88a2421bafc4",
   "metadata": {},
   "outputs": [
    {
     "name": "stdout",
     "output_type": "stream",
     "text": [
      "Requirement already satisfied: requests in c:\\users\\91720\\appdata\\local\\programs\\python\\python311\\lib\\site-packages (2.32.3)\n",
      "Requirement already satisfied: beautifulsoup4 in c:\\users\\91720\\appdata\\local\\programs\\python\\python311\\lib\\site-packages (4.12.3)\n",
      "Requirement already satisfied: charset-normalizer<4,>=2 in c:\\users\\91720\\appdata\\local\\programs\\python\\python311\\lib\\site-packages (from requests) (3.4.0)\n",
      "Requirement already satisfied: idna<4,>=2.5 in c:\\users\\91720\\appdata\\local\\programs\\python\\python311\\lib\\site-packages (from requests) (3.10)\n",
      "Requirement already satisfied: urllib3<3,>=1.21.1 in c:\\users\\91720\\appdata\\local\\programs\\python\\python311\\lib\\site-packages (from requests) (2.2.3)\n",
      "Requirement already satisfied: certifi>=2017.4.17 in c:\\users\\91720\\appdata\\local\\programs\\python\\python311\\lib\\site-packages (from requests) (2024.8.30)\n",
      "Requirement already satisfied: soupsieve>1.2 in c:\\users\\91720\\appdata\\local\\programs\\python\\python311\\lib\\site-packages (from beautifulsoup4) (2.6)\n"
     ]
    },
    {
     "name": "stderr",
     "output_type": "stream",
     "text": [
      "WARNING: Ignoring invalid distribution ~yproj (C:\\Users\\91720\\AppData\\Local\\Programs\\Python\\Python311\\Lib\\site-packages)\n",
      "WARNING: Ignoring invalid distribution ~yproj (C:\\Users\\91720\\AppData\\Local\\Programs\\Python\\Python311\\Lib\\site-packages)\n",
      "\n",
      "[notice] A new release of pip is available: 23.1.2 -> 24.3.1\n",
      "[notice] To update, run: python.exe -m pip install --upgrade pip\n"
     ]
    }
   ],
   "source": [
    "!pip install requests beautifulsoup4"
   ]
  },
  {
   "cell_type": "code",
   "execution_count": 4,
   "id": "c501175b-f11a-4fd2-aec3-8ac1828219ac",
   "metadata": {},
   "outputs": [
    {
     "name": "stdout",
     "output_type": "stream",
     "text": [
      "Successfully scraped content from https://www.uchicago.edu/sitemap.xml\n",
      "Successfully scraped content from https://www.washington.edu/\n",
      "Successfully scraped content from https://www.stanford.edu/\n",
      "Successfully scraped content from https://und.edu/\n"
     ]
    },
    {
     "name": "stdin",
     "output_type": "stream",
     "text": [
      "Enter your query:  student life\n"
     ]
    },
    {
     "name": "stdout",
     "output_type": "stream",
     "text": [
      "\n",
      "Results found:\n",
      "\n",
      "From (URL): https://www.stanford.edu/\n",
      "Content snippet: Stanford University Skip to content Stanford University Information for: Students Faculty & Staff Families Visitors Alumni Search Menu News Events Academics Research Health Care Campus Life Admission ...\n",
      "\n",
      "From (URL): https://und.edu/\n",
      "Content snippet: UND | Grand Forks, ND | University of North Dakota Skip to main content Open Menu Close Menu University of North Dakota Open Search Close Search University of North Dakota Info For Admitted Students C...\n"
     ]
    }
   ],
   "source": [
    "import requests\n",
    "from bs4 import BeautifulSoup\n",
    "\n",
    "def fetch_website_content(url):\n",
    "    headers = {\n",
    "         'User-Agent': 'Mozilla/5.0 (Windows NT 10.0; Win64; x64) AppleWebKit/537.36 (KHTML, like Gecko) Chrome/91.0.4472.124 Safari/537.36',\n",
    "        'Accept': 'text/html,application/xhtml+xml,application/xml;q=0.9,image/webp,/;q=0.8',\n",
    "        'Accept-Language': 'en-US,en;q=0.5',\n",
    "        'Accept-Encoding': 'gzip, deflate, br',\n",
    "        'Connection': 'keep-alive',\n",
    "        'Upgrade-Insecure-Requests': '1',\n",
    "        'Cache-Control': 'max-age=0',\n",
    "    }    \n",
    "    # Fetches and returns the text content of a site.\n",
    "    try:\n",
    "        response = requests.get(url, headers=headers, timeout=10)\n",
    "        response.raise_for_status() \n",
    "        soup = BeautifulSoup(response.text, 'html.parser')\n",
    "        return soup.get_text(separator=' ', strip=True)\n",
    "    \n",
    "    except requests.exceptions.SSLError as ssl_err:\n",
    "        print(f\"SSL error occurred: {ssl_err}\")\n",
    "    \n",
    "    except requests.exceptions.RequestException as req_err:\n",
    "        print(f\"Request error occurred: {req_err}\")\n",
    "    \n",
    "    except Exception as e:\n",
    "        print(f\"An error occurred: {e}\")\n",
    "\n",
    "def search_in_content(query, content_dict):\n",
    "    # Searches for a query in the scraped content and returns matching results.\n",
    "    matches = []\n",
    "    for url, content in content_dict.items():\n",
    "        if query.lower() in content.lower():\n",
    "            matches.append((url, content))\n",
    "    return matches\n",
    "\n",
    "websites = [\n",
    "    \"https://www.uchicago.edu/sitemap.xml\",\n",
    "    \"https://www.washington.edu/\",\n",
    "    \"https://www.stanford.edu/\",\n",
    "    \"https://und.edu/\"\n",
    "]\n",
    "\n",
    "scraped_content = {}\n",
    "for website in websites:\n",
    "    content = fetch_website_content(website)\n",
    "    if content:\n",
    "        print(f\"Successfully scraped content from {website}\")\n",
    "        scraped_content[website] = content\n",
    "\n",
    "query_input = input(\"Enter your query: \")\n",
    "search_results = search_in_content(query_input, scraped_content)\n",
    "\n",
    "if search_results:\n",
    "    print(\"\\nResults found:\")\n",
    "    for url, content in search_results:\n",
    "        print(f\"\\nFrom (URL): {url}\")\n",
    "        print(f\"Content snippet: {content[:200]}...\")\n",
    "else:\n",
    "    print(\"No results found for your query.\")\n"
   ]
  },
  {
   "cell_type": "code",
   "execution_count": null,
   "id": "6ada077b-ba77-4305-a6ec-dff17df5886c",
   "metadata": {},
   "outputs": [],
   "source": []
  },
  {
   "cell_type": "code",
   "execution_count": null,
   "id": "300413fd-1c16-4886-9022-4f46ec05c627",
   "metadata": {},
   "outputs": [],
   "source": []
  }
 ],
 "metadata": {
  "kernelspec": {
   "display_name": "Python 3 (ipykernel)",
   "language": "python",
   "name": "python3"
  },
  "language_info": {
   "codemirror_mode": {
    "name": "ipython",
    "version": 3
   },
   "file_extension": ".py",
   "mimetype": "text/x-python",
   "name": "python",
   "nbconvert_exporter": "python",
   "pygments_lexer": "ipython3",
   "version": "3.11.4"
  }
 },
 "nbformat": 4,
 "nbformat_minor": 5
}
